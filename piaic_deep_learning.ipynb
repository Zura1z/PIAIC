{
  "nbformat": 4,
  "nbformat_minor": 0,
  "metadata": {
    "colab": {
      "name": "piaic_deep_learning.ipynb",
      "provenance": [],
      "collapsed_sections": []
    },
    "kernelspec": {
      "name": "python3",
      "display_name": "Python 3"
    },
    "language_info": {
      "name": "python"
    }
  },
  "cells": [
    {
      "cell_type": "code",
      "metadata": {
        "colab": {
          "base_uri": "https://localhost:8080/"
        },
        "id": "sQc2jZXjYh1n",
        "outputId": "7694497f-3024-4d48-a7be-b59944254d66"
      },
      "source": [
        "import tensorflow as tf\n",
        "print(tf.__version__)"
      ],
      "execution_count": 32,
      "outputs": [
        {
          "output_type": "stream",
          "text": [
            "2.4.1\n"
          ],
          "name": "stdout"
        }
      ]
    },
    {
      "cell_type": "code",
      "metadata": {
        "id": "3zS3VcHNYqCw"
      },
      "source": [
        "from tensorflow.keras.datasets import mnist\n",
        "(train_images,train_labels), (test_images,test_labels) = mnist.load_data() "
      ],
      "execution_count": 33,
      "outputs": []
    },
    {
      "cell_type": "code",
      "metadata": {
        "colab": {
          "base_uri": "https://localhost:8080/"
        },
        "id": "Azlgp2H0aDzZ",
        "outputId": "85fa2748-dbeb-4747-831c-3f40f0dbdc32"
      },
      "source": [
        "print(train_images.shape)\n",
        "print(train_labels.shape)\n",
        "print(test_images.shape)\n",
        "print(test_labels.shape)"
      ],
      "execution_count": 34,
      "outputs": [
        {
          "output_type": "stream",
          "text": [
            "(60000, 28, 28)\n",
            "(60000,)\n",
            "(10000, 28, 28)\n",
            "(10000,)\n"
          ],
          "name": "stdout"
        }
      ]
    },
    {
      "cell_type": "code",
      "metadata": {
        "colab": {
          "base_uri": "https://localhost:8080/"
        },
        "id": "R6qxbb7FaPOM",
        "outputId": "7780c63a-4c25-45e7-ce0a-116d70d7f484"
      },
      "source": [
        "train_images[0]\n",
        "train_images.ndim\n",
        "test_labels[0]"
      ],
      "execution_count": 35,
      "outputs": [
        {
          "output_type": "execute_result",
          "data": {
            "text/plain": [
              "7"
            ]
          },
          "metadata": {
            "tags": []
          },
          "execution_count": 35
        }
      ]
    },
    {
      "cell_type": "markdown",
      "metadata": {
        "id": "CtgTeTTxbDgP"
      },
      "source": [
        "#Listing 2.2: Network Achitecture"
      ]
    },
    {
      "cell_type": "code",
      "metadata": {
        "id": "-IkmrJYeah6c"
      },
      "source": [
        "from tensorflow.keras import models\n",
        "from tensorflow.keras import layers\n",
        "network = models.Sequential()\n",
        "network.add(layers.Dense(512,activation='relu',input_shape=(28*28,)))\n",
        "network.add(layers.Dense(10,activation=\"softmax\"))"
      ],
      "execution_count": 36,
      "outputs": []
    },
    {
      "cell_type": "markdown",
      "metadata": {
        "id": "4yLmah81cgRR"
      },
      "source": [
        "#Listing 2.2: The compilation step"
      ]
    },
    {
      "cell_type": "code",
      "metadata": {
        "id": "zXrsPFadcfqZ"
      },
      "source": [
        "network.compile(optimizer='rmsprop', loss='categorical_crossentropy', metrics=['accuracy'])"
      ],
      "execution_count": 37,
      "outputs": []
    },
    {
      "cell_type": "markdown",
      "metadata": {
        "id": "8j3LEEezd-oT"
      },
      "source": [
        "#Preparing image data"
      ]
    },
    {
      "cell_type": "code",
      "metadata": {
        "id": "Rh0_vCiAdep3"
      },
      "source": [
        "train_images = train_images.reshape((60000,28*28))\n",
        "train_images = train_images.astype('float32')/255\n",
        "test_images = test_images.reshape((10000,28*28))\n",
        "test_images = test_images.astype('float32')/255"
      ],
      "execution_count": 38,
      "outputs": []
    },
    {
      "cell_type": "markdown",
      "metadata": {
        "id": "2fx7MZaMelE9"
      },
      "source": [
        "#Preparing lebels"
      ]
    },
    {
      "cell_type": "code",
      "metadata": {
        "id": "CqI4PR3mefe3"
      },
      "source": [
        "from tensorflow.keras.utils import to_categorical\n",
        "train_labels = to_categorical(train_labels)\n",
        "test_labels = to_categorical(test_labels)"
      ],
      "execution_count": 39,
      "outputs": []
    },
    {
      "cell_type": "code",
      "metadata": {
        "colab": {
          "base_uri": "https://localhost:8080/"
        },
        "id": "YUMEI7ELfcBE",
        "outputId": "8f325174-11c5-4fea-be32-a3d64cf9de83"
      },
      "source": [
        "network.fit(train_images,train_labels,epochs = 3,batch_size=128)"
      ],
      "execution_count": 40,
      "outputs": [
        {
          "output_type": "stream",
          "text": [
            "Epoch 1/3\n",
            "469/469 [==============================] - 5s 10ms/step - loss: 0.4263 - accuracy: 0.8745\n",
            "Epoch 2/3\n",
            "469/469 [==============================] - 5s 10ms/step - loss: 0.1094 - accuracy: 0.9685\n",
            "Epoch 3/3\n",
            "469/469 [==============================] - 5s 10ms/step - loss: 0.0664 - accuracy: 0.9805\n"
          ],
          "name": "stdout"
        },
        {
          "output_type": "execute_result",
          "data": {
            "text/plain": [
              "<tensorflow.python.keras.callbacks.History at 0x7f5718491650>"
            ]
          },
          "metadata": {
            "tags": []
          },
          "execution_count": 40
        }
      ]
    },
    {
      "cell_type": "markdown",
      "metadata": {
        "id": "WdnoJTG9hfF1"
      },
      "source": [
        "#Evaluation & prediction"
      ]
    },
    {
      "cell_type": "code",
      "metadata": {
        "colab": {
          "base_uri": "https://localhost:8080/"
        },
        "id": "wPYdkcvKf2kW",
        "outputId": "6f5a47af-d0fa-4384-8eda-759e572f6a7b"
      },
      "source": [
        "loss,acc = network.evaluate(test_images,test_labels)\n",
        "print(\"Loss: \",loss)\n",
        "print(\"Accuracy: \",acc)"
      ],
      "execution_count": 41,
      "outputs": [
        {
          "output_type": "stream",
          "text": [
            "313/313 [==============================] - 1s 3ms/step - loss: 0.0777 - accuracy: 0.9748\n",
            "Loss:  0.07773765921592712\n",
            "Accuracy:  0.9747999906539917\n"
          ],
          "name": "stdout"
        }
      ]
    },
    {
      "cell_type": "code",
      "metadata": {
        "colab": {
          "base_uri": "https://localhost:8080/"
        },
        "id": "nRYIeh_zhQ9w",
        "outputId": "dd4353a2-9176-46ac-ca14-6b3fdf3a3140"
      },
      "source": [
        "network.predict(test_images)[0]"
      ],
      "execution_count": 42,
      "outputs": [
        {
          "output_type": "execute_result",
          "data": {
            "text/plain": [
              "array([2.0831386e-07, 1.3055749e-08, 1.6261125e-05, 7.0344069e-04,\n",
              "       5.3738070e-10, 2.4673372e-07, 1.0978561e-11, 9.9926037e-01,\n",
              "       3.3687408e-07, 1.9191672e-05], dtype=float32)"
            ]
          },
          "metadata": {
            "tags": []
          },
          "execution_count": 42
        }
      ]
    },
    {
      "cell_type": "markdown",
      "metadata": {
        "id": "zF3v1SWNh3sv"
      },
      "source": [
        "#Checking"
      ]
    },
    {
      "cell_type": "code",
      "metadata": {
        "id": "a8OFbLVths5d"
      },
      "source": [
        "from tensorflow.keras.datasets import mnist\n",
        "(train_images,train_labels), (test_images,test_labels) = mnist.load_data() "
      ],
      "execution_count": 43,
      "outputs": []
    },
    {
      "cell_type": "code",
      "metadata": {
        "colab": {
          "base_uri": "https://localhost:8080/",
          "height": 265
        },
        "id": "IRVDFSOkh2zU",
        "outputId": "1a1344c3-0b03-4381-9162-ae52a8df5ce7"
      },
      "source": [
        "digit = train_images[4]\n",
        "import matplotlib.pyplot as plt\n",
        "plt.imshow(digit,cmap= plt.cm.binary)\n",
        "plt.show()"
      ],
      "execution_count": 44,
      "outputs": [
        {
          "output_type": "display_data",
          "data": {
            "image/png": "[encoded data removed]",
            "text/plain": [
              "<Figure size 432x288 with 1 Axes>"
            ]
          },
          "metadata": {
            "tags": [],
            "needs_background": "light"
          }
        }
      ]
    },
    {
      "cell_type": "markdown",
      "metadata": {
        "id": "bez115xgjQNM"
      },
      "source": [
        "#Now for mnist_fashion data"
      ]
    },
    {
      "cell_type": "code",
      "metadata": {
        "id": "yba1KieBjii8"
      },
      "source": [
        "from tensorflow.keras.datasets import fashion_mnist\n",
        "(train_images,train_labels), (test_images,test_labels) = mnist.load_data() "
      ],
      "execution_count": 57,
      "outputs": []
    },
    {
      "cell_type": "code",
      "metadata": {
        "id": "lQB6NxUliNcV"
      },
      "source": [
        "train_images = train_images/255.0\n",
        "test_images = test_images/255.0\n",
        "model = tf.keras.models.Sequential([layers.Flatten(),layers.Dense(512,activation='relu'),layers.Dense(10,activation=\"softmax\")])"
      ],
      "execution_count": 58,
      "outputs": []
    },
    {
      "cell_type": "code",
      "metadata": {
        "colab": {
          "base_uri": "https://localhost:8080/"
        },
        "id": "uKSPcy7BkhrI",
        "outputId": "20fc21af-5a83-41b1-8fc9-2c3fc7420e5a"
      },
      "source": [
        "model.compile(optimizer='Adam', loss='sparse_categorical_crossentropy', metrics=['accuracy'])\n",
        "model.fit(train_images,train_labels,epochs = 5,batch_size=128)\n",
        "loss,acc = model.evaluate(test_images,test_labels)\n",
        "print(\"Loss: \",loss)\n",
        "print(\"Accuracy: \",acc)"
      ],
      "execution_count": 59,
      "outputs": [
        {
          "output_type": "stream",
          "text": [
            "Epoch 1/5\n",
            "469/469 [==============================] - 4s 8ms/step - loss: 0.4629 - accuracy: 0.8671\n",
            "Epoch 2/5\n",
            "469/469 [==============================] - 4s 8ms/step - loss: 0.1174 - accuracy: 0.9667\n",
            "Epoch 3/5\n",
            "469/469 [==============================] - 4s 8ms/step - loss: 0.0709 - accuracy: 0.9803\n",
            "Epoch 4/5\n",
            "469/469 [==============================] - 4s 8ms/step - loss: 0.0495 - accuracy: 0.9859\n",
            "Epoch 5/5\n",
            "469/469 [==============================] - 4s 8ms/step - loss: 0.0337 - accuracy: 0.9903\n",
            "313/313 [==============================] - 1s 2ms/step - loss: 0.0689 - accuracy: 0.9787\n",
            "Loss:  0.0688597559928894\n",
            "Accuracy:  0.9786999821662903\n"
          ],
          "name": "stdout"
        }
      ]
    },
    {
      "cell_type": "code",
      "metadata": {
        "id": "jSMSR9tElPnQ"
      },
      "source": [
        ""
      ],
      "execution_count": 59,
      "outputs": []
    }
  ]
}